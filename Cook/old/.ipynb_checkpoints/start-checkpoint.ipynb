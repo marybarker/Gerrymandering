{
 "cells": [
  {
   "cell_type": "code",
   "execution_count": 4,
   "metadata": {
    "collapsed": false
   },
   "outputs": [
    {
     "name": "stdout",
     "output_type": "stream",
     "text": [
      "DIV1\t DIV2\t Ldist\t Lnorm\t M\t N\t SourceModule\t Steps\t blockDims\t \n",
      "c\t c_idx\t clr\t clr_arr\t clr_count\t clr_pop\t clr_pop_srt\t copy\t cuda\t \n",
      "curandom\t datetime\t degree\t digits\t display\t e\t edges\t found\t get_summary_stats\t \n",
      "gpuarray\t gridDims\t idx\t init_clr\t ipd\t it\t json_tricks\t margins\t math\t \n",
      "max_steps\t nbr_rng\t nbrs\t np\t num_clrs\t num_edges\t num_sims\t num_uclr\t num_vtds\t \n",
      "os\t pd\t plt\t print_data\t print_stats\t pycuda\t rand_seeds\t read_json\t recolor\t \n",
      "s\t shutil\t slc\t small_deg_vtds\t step\t tile_cols\t tile_rows\t togpu\t v\t \n",
      "vtd0\t vtd1\t vtd_pop\t w\t write_json\t \n"
     ]
    }
   ],
   "source": []
  },
  {
   "cell_type": "code",
   "execution_count": 2,
   "metadata": {
    "collapsed": false
   },
   "outputs": [
    {
     "name": "stdout",
     "output_type": "stream",
     "text": [
      "\n",
      "IPython CPU timings (estimated):\n",
      "  User   :       1.80 s.\n",
      "  System :       0.01 s.\n",
      "Wall time:       1.81 s.\n",
      "\n",
      "IPython CPU timings (estimated):\n",
      "  User   :      71.46 s.\n",
      "  System :       0.00 s.\n",
      "Wall time:      71.47 s.\n",
      "CPU times: user 1min 13s, sys: 40 ms, total: 1min 13s\n",
      "Wall time: 1min 13s\n"
     ]
    }
   ],
   "source": [
    "%%time\n",
    "#%%capture\n",
    "from helper.setup import *\n",
    "from helper.pycuda_setup import *\n",
    "\n",
    "gridDims = (1,1,1)\n",
    "blockDims = (1,1,1)\n",
    "max_steps = 2\n",
    "num_sims = np.product([gridDims,blockDims])\n",
    "\n",
    "\n",
    "num_clrs = 20\n",
    "num_vtds = 1000\n",
    "vtd_pop = np.random.randint(20,size=num_vtds).astype('uint16')\n",
    "num_vtds = len(vtd_pop)\n",
    "\n",
    "#If given neighbors list\n",
    "#edges = [(v,w) for (v,N) in enumerate nbrs for w in N if v<w]\n",
    "\n",
    "num_edges = int((num_vtds*(num_vtds-1)/2)*.75)\n",
    "edges = np.random.choice(num_vtds, size=[num_edges,2]).tolist()\n",
    "\n",
    "%run -i -t prep_data.py\n",
    "%run -i -t connected_start_array.py\n",
    "%run -i -t main.py\n"
   ]
  },
  {
   "cell_type": "code",
   "execution_count": 1,
   "metadata": {
    "collapsed": false
   },
   "outputs": [
    {
     "name": "stdout",
     "output_type": "stream",
     "text": [
      "\n",
      "IPython CPU timings (estimated):\n",
      "  User   :       1.38 s.\n",
      "  System :       0.00 s.\n",
      "Wall time:       1.39 s.\n",
      "(10, 1000)\n",
      "CPU times: user 3.89 s, sys: 232 ms, total: 4.12 s\n",
      "Wall time: 4.14 s\n"
     ]
    }
   ],
   "source": [
    "\n",
    "\n",
    "num_sims = 10\n",
    "%run -i -t connected_start_array.py\n",
    "print(clr_arr.shape)"
   ]
  },
  {
   "cell_type": "code",
   "execution_count": 2,
   "metadata": {
    "collapsed": false,
    "scrolled": false
   },
   "outputs": [
    {
     "name": "stdout",
     "output_type": "stream",
     "text": [
      "\n",
      "IPython CPU timings (estimated):\n",
      "  User   :       1.42 s.\n",
      "  System :       0.00 s.\n",
      "Wall time:       1.42 s.\n"
     ]
    }
   ],
   "source": [
    "#%%capture cs2\n",
    "np.random.seed(42)\n",
    "%run -i -t connected_start2.py\n",
    "clr_arr2 = clr_arr.copy()"
   ]
  },
  {
   "cell_type": "code",
   "execution_count": 3,
   "metadata": {
    "collapsed": false,
    "scrolled": false
   },
   "outputs": [
    {
     "name": "stdout",
     "output_type": "stream",
     "text": [
      "\n",
      "IPython CPU timings (estimated):\n",
      "  User   :       7.82 s.\n",
      "  System :       0.00 s.\n",
      "Wall time:       7.82 s.\n"
     ]
    }
   ],
   "source": [
    "#%%capture cs3\n",
    "np.random.seed(42)\n",
    "%run -i -t connected_start3.py\n",
    "clr_arr3 = clr_arr.copy()"
   ]
  },
  {
   "cell_type": "code",
   "execution_count": 4,
   "metadata": {
    "collapsed": false
   },
   "outputs": [
    {
     "name": "stdout",
     "output_type": "stream",
     "text": [
      "True\n"
     ]
    },
    {
     "ename": "NameError",
     "evalue": "name 'cs2' is not defined",
     "output_type": "error",
     "traceback": [
      "\u001b[0;31m\u001b[0m",
      "\u001b[0;31mNameError\u001b[0mTraceback (most recent call last)",
      "\u001b[0;32m/home/cook/gerrymandering/Cook/development/connected_start3.py\u001b[0m in \u001b[0;36m<module>\u001b[0;34m()\u001b[0m\n\u001b[1;32m      1\u001b[0m \u001b[0mprint\u001b[0m\u001b[0;34m(\u001b[0m\u001b[0mnp\u001b[0m\u001b[0;34m.\u001b[0m\u001b[0malltrue\u001b[0m\u001b[0;34m(\u001b[0m\u001b[0mclr_arr2\u001b[0m \u001b[0;34m==\u001b[0m \u001b[0mclr_arr3\u001b[0m\u001b[0;34m)\u001b[0m\u001b[0;34m)\u001b[0m\u001b[0;34m\u001b[0m\u001b[0m\n\u001b[0;32m----> 2\u001b[0;31m \u001b[0mprint\u001b[0m\u001b[0;34m(\u001b[0m\u001b[0mcs2\u001b[0m\u001b[0;34m.\u001b[0m\u001b[0mstdout\u001b[0m\u001b[0;34m[\u001b[0m\u001b[0;34m-\u001b[0m\u001b[0;36m100\u001b[0m\u001b[0;34m:\u001b[0m\u001b[0;34m]\u001b[0m\u001b[0;34m)\u001b[0m\u001b[0;34m\u001b[0m\u001b[0m\n\u001b[0m\u001b[1;32m      3\u001b[0m \u001b[0mprint\u001b[0m\u001b[0;34m(\u001b[0m\u001b[0mcs3\u001b[0m\u001b[0;34m.\u001b[0m\u001b[0mstdout\u001b[0m\u001b[0;34m[\u001b[0m\u001b[0;34m-\u001b[0m\u001b[0;36m100\u001b[0m\u001b[0;34m:\u001b[0m\u001b[0;34m]\u001b[0m\u001b[0;34m)\u001b[0m\u001b[0;34m\u001b[0m\u001b[0m\n",
      "\u001b[0;31mNameError\u001b[0m: name 'cs2' is not defined"
     ]
    }
   ],
   "source": [
    "print(np.alltrue(clr_arr2 == clr_arr3))\n",
    "print(cs2.stdout[-100:])\n",
    "print(cs3.stdout[-100:])"
   ]
  },
  {
   "cell_type": "code",
   "execution_count": 2,
   "metadata": {
    "collapsed": false
   },
   "outputs": [
    {
     "data": {
      "text/plain": [
       "True"
      ]
     },
     "execution_count": 2,
     "metadata": {},
     "output_type": "execute_result"
    }
   ],
   "source": [
    "#%%time\n",
    "#%%capture\n",
    "from helper.setup import *\n",
    "from helper.pycuda_setup import *\n",
    "\n",
    "DIV1 = \"*\" * 80\n",
    "DIV2 = \"#\" * 80\n",
    "\n",
    "\n",
    "gridDims = (1,1,1)\n",
    "blockDims = (1,1,1)\n",
    "max_steps = 2\n",
    "num_sims = np.product([gridDims,blockDims])\n",
    "rand_seeds = np.arange(num_sims)\n",
    "\n",
    "num_clrs = 20\n",
    "num_vtds = 2000\n",
    "vtd_pop = np.random.randint(20,size=num_vtds).astype('uint16')\n",
    "\n",
    "num_vtds = len(vtd_pop)\n",
    "\n",
    "#If given edge list\n",
    "edges = [(0,4)\n",
    "        ,(1,4)\n",
    "        ,(2,4)\n",
    "        ,(4,3)\n",
    "        ,(3,4)        \n",
    "        ]\n",
    "\n",
    "#If given neighbor list\n",
    "\"\"\"\n",
    "nbrs = [[1,4]\n",
    "       ,[0,4]\n",
    "       ,[4]\n",
    "       ,[4]\n",
    "       ,[0,1,2,3]\n",
    "       ]\n",
    "edges = [(v,w) for (v,N) in enumerate nbrs for w in N if v<w]\n",
    "\"\"\"\n",
    "\n",
    "num_edges = int((num_vtds*(num_vtds-1)/2)*.75)\n",
    "edges = np.random.choice(num_vtds, size=[num_edges,2]).tolist()\n",
    "\n",
    "for (idx,e) in enumerate(edges):\n",
    "    if(len(e) != 2):\n",
    "        raise Exception('edge %d: %s is not length 2'%(idx, e))\n",
    "    if((e[0]%1 != 0) | (e[1]%1 != 0)):\n",
    "        raise Exception('edge %d: %s contains a non-integer'%(idx, e))\n",
    "    if(e[0] < e[1]):\n",
    "        edges[idx] = (int(e[0]), int(e[1]))\n",
    "    elif(e[0] == e[1]):\n",
    "        edges[idx] = (0, 0)\n",
    "    elif(e[0] > e[1]):\n",
    "        edges[idx] = (int(e[1]), int(e[0]))\n",
    "\n",
    "edges = set(edges)\n",
    "edges.discard((0, 0))\n",
    "edges = np.array(sorted(list(edges))).astype('uint16')\n",
    "#display(edges)\n",
    "\n",
    "if num_vtds != edges.max()+1:\n",
    "    raise Exception('length of population vector != max vtd in edge list.  Is there an isolated vtd?')\n",
    "\n",
    "vtd0 = edges[:,0]\n",
    "vtd1 = edges[:,1]\n",
    "num_edges = len(vtd0)\n",
    "\n",
    "def f1(edges,num_vtds):\n",
    "    nbrs0 = [set() for v in range(num_vtds)]\n",
    "    for e in edges:\n",
    "        nbrs0[e[0]].add(e[1])\n",
    "        nbrs0[e[1]].add(e[0])\n",
    "    nbrs = [np.array(sorted(list(n))).astype('uint16') for n in nbrs0]\n",
    "    del nbrs0\n",
    "    return nbrs\n",
    "\n",
    "    \n",
    "def f2(edges,num_vtds):\n",
    "    nbrs0 = [[] for v in range(num_vtds)]\n",
    "    for e in edges:\n",
    "        nbrs0[e[0]].append(e[1])\n",
    "        nbrs0[e[1]].append(e[0])\n",
    "    nbrs = [np.array(list(n)).astype('uint16') for n in nbrs0]\n",
    "    del nbrs0\n",
    "    return nbrs\n",
    "\n",
    "#%timeit \n",
    "nbrs1 = f1(edges, num_vtds)\n",
    "#%timeit \n",
    "nbrs2 = f2(edges, num_vtds)\n",
    "\n",
    "np.all([np.all(nbrs1[v]==nbrs2[v]) for v in range(num_vtds)])\n",
    "#[np.alltrue(nbrs1==nbrs1)]\n",
    "#%timeit f1()\n",
    "#%timeit f2()"
   ]
  },
  {
   "cell_type": "code",
   "execution_count": 3,
   "metadata": {
    "collapsed": false
   },
   "outputs": [
    {
     "name": "stdout",
     "output_type": "stream",
     "text": [
      "CPU times: user 2.14 s, sys: 28 ms, total: 2.17 s\n",
      "Wall time: 2.17 s\n"
     ]
    }
   ],
   "source": [
    "%%time\n",
    "#%%capture\n",
    "from helper.setup import *\n",
    "from helper.pycuda_setup import *\n",
    "\n",
    "DIV1 = \"*\" * 80\n",
    "DIV2 = \"#\" * 80\n",
    "\n",
    "\n",
    "gridDims = (1,1,1)\n",
    "blockDims = (1,1,1)\n",
    "max_steps = 2\n",
    "num_sims = np.product([gridDims,blockDims])\n",
    "rand_seeds = np.arange(num_sims)\n",
    "\n",
    "num_clrs = 20\n",
    "num_vtds = 1000\n",
    "vtd_pop = np.random.randint(20,size=num_vtds).astype('uint16')\n",
    "\n",
    "num_vtds = len(vtd_pop)\n",
    "\n",
    "#If given edge list\n",
    "edges = [(0,4)\n",
    "        ,(1,4)\n",
    "        ,(2,4)\n",
    "        ,(4,3)\n",
    "        ,(3,4)        \n",
    "        ]\n",
    "\n",
    "#If given neighbor list\n",
    "\"\"\"\n",
    "nbrs = [[1,4]\n",
    "       ,[0,4]\n",
    "       ,[4]\n",
    "       ,[4]\n",
    "       ,[0,1,2,3]\n",
    "       ]\n",
    "edges = [(v,w) for (v,N) in enumerate nbrs for w in N if v<w]\n",
    "\"\"\"\n",
    "\n",
    "num_edges = int((num_vtds*(num_vtds-1)/2)*.75)\n",
    "edges = np.random.choice(num_vtds, size=[num_edges,2]).tolist()\n",
    "\n",
    "for (idx,e) in enumerate(edges):\n",
    "    if(len(e) != 2):\n",
    "        raise Exception('edge %d: %s is not length 2'%(idx, e))\n",
    "    if((e[0]%1 != 0) | (e[1]%1 != 0)):\n",
    "        raise Exception('edge %d: %s contains a non-integer'%(idx, e))\n",
    "    if(e[0] < e[1]):\n",
    "        edges[idx] = (int(e[0]), int(e[1]))\n",
    "    elif(e[0] == e[1]):\n",
    "        edges[idx] = (0, 0)\n",
    "    elif(e[0] > e[1]):\n",
    "        edges[idx] = (int(e[1]), int(e[0]))\n",
    "\n",
    "edges = set(edges)\n",
    "edges.discard((0, 0))\n",
    "edges = np.array(sorted(list(edges))).astype('uint16')\n",
    "#display(edges)\n",
    "\n",
    "if num_vtds != edges.max()+1:\n",
    "    raise Exception('length of population vector != max vtd in edge list.  Is there an isolated vtd?')\n",
    "\n",
    "vtd0 = edges[:,0]\n",
    "vtd1 = edges[:,1]\n",
    "num_edges = len(vtd0)\n",
    "\n",
    "nbrs0 = [[] for v in range(num_vtds)]\n",
    "for e in edges:\n",
    "    nbrs0[e[0]].append(e[1])\n",
    "    nbrs0[e[1]].append(e[0])\n",
    "nbrs = [np.array(list(n)).astype('uint16') for n in nbrs0]\n",
    "del nbrs0\n",
    "\n",
    "degree = np.array([len(n) for n in nbrs])\n",
    "nbr_rng = np.insert(np.cumsum(degree),0,0)\n",
    "\n",
    "def print_data():\n",
    "    #print(\"edges\\n%s\"%edges)\n",
    "    print(\"num_edges = %s\"%num_edges)\n",
    "    print(\"vtd0 = %s\"%vtd0)\n",
    "    print(\"vtd1 = %s\"%vtd1)\n",
    "    print(\"num_vtds = %s\"%num_vtds)\n",
    "    print(\"neighbors = %s\"%nbrs)\n",
    "    print(\"degree = %s\"%degree)\n",
    "    print(\"neighbor index range = %s\"%nbr_rng)\n",
    "    print(DIV2)\n",
    "    print(DIV2)\n",
    "\n",
    "def print_stats():\n",
    "    print(\"vtd colors\")\n",
    "    print(clr)\n",
    "    print(\"#vtds per color\")\n",
    "    print(clr_count)\n",
    "    print(\"population per color\")\n",
    "    print(clr_pop)\n",
    "    print(\"number of uncolored vtds = %d\"%num_uclr)\n",
    "\n",
    "def recolor(w, c):\n",
    "    global clr_count, clr_pop, num_uclr\n",
    "    clr_count[clr[w]] -= 1\n",
    "    clr_pop[clr[w]] -= vtd_pop[w]\n",
    "    clr[w] = c\n",
    "    clr_count[clr[w]] += 1\n",
    "    clr_pop[clr[w]] += vtd_pop[w]\n",
    "    num_uclr -= 1\n",
    "\n",
    "num_sims = 10"
   ]
  },
  {
   "cell_type": "code",
   "execution_count": 5,
   "metadata": {
    "collapsed": false
   },
   "outputs": [
    {
     "name": "stdout",
     "output_type": "stream",
     "text": [
      "CPU times: user 2.2 s, sys: 4 ms, total: 2.2 s\n",
      "Wall time: 2.2 s\n"
     ]
    }
   ],
   "source": [
    "    \n",
    "degree = np.array([len(n) for n in nbrs])\n",
    "nbr_rng = np.insert(np.cumsum(degree),0,0)\n",
    "\n",
    "def print_data():\n",
    "    #print(\"edges\\n%s\"%edges)\n",
    "    print(\"num_edges = %s\"%num_edges)\n",
    "    print(\"vtd0 = %s\"%vtd0)\n",
    "    print(\"vtd1 = %s\"%vtd1)\n",
    "    print(\"num_vtds = %s\"%num_vtds)\n",
    "    print(\"neighbors = %s\"%nbrs)\n",
    "    print(\"degree = %s\"%degree)\n",
    "    print(\"neighbor index range = %s\"%nbr_rng)\n",
    "    print(DIV2)\n",
    "    print(DIV2)\n",
    "\n",
    "def print_stats():\n",
    "    print(\"vtd colors\")\n",
    "    print(clr)\n",
    "    print(\"#vtds per color\")\n",
    "    print(clr_count)\n",
    "    print(\"population per color\")\n",
    "    print(clr_pop)\n",
    "    print(\"number of uncolored vtds = %d\"%num_uclr)\n",
    "\n",
    "def recolor(w, c):\n",
    "    global clr_count, clr_pop, num_uclr\n",
    "    clr_count[clr[w]] -= 1\n",
    "    clr_pop[clr[w]] -= vtd_pop[w]\n",
    "    clr[w] = c\n",
    "    clr_count[clr[w]] += 1\n",
    "    clr_pop[clr[w]] += vtd_pop[w]\n",
    "    num_uclr -= 1\n",
    "\n",
    "num_sims = 10"
   ]
  },
  {
   "cell_type": "code",
   "execution_count": 2,
   "metadata": {
    "collapsed": false
   },
   "outputs": [
    {
     "data": {
      "text/plain": [
       "0.5277237237237237"
      ]
     },
     "execution_count": 2,
     "metadata": {},
     "output_type": "execute_result"
    }
   ],
   "source": [
    "num_edges/(num_vtds*(num_vtds-1)/2)"
   ]
  }
 ],
 "metadata": {
  "kernelspec": {
   "display_name": "Python 3",
   "language": "python",
   "name": "python3"
  },
  "language_info": {
   "codemirror_mode": {
    "name": "ipython",
    "version": 3
   },
   "file_extension": ".py",
   "mimetype": "text/x-python",
   "name": "python",
   "nbconvert_exporter": "python",
   "pygments_lexer": "ipython3",
   "version": "3.6.0"
  }
 },
 "nbformat": 4,
 "nbformat_minor": 2
}
