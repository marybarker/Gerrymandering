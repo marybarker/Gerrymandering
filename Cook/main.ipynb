{
 "cells": [
  {
   "cell_type": "code",
   "execution_count": 2,
   "metadata": {
    "collapsed": false
   },
   "outputs": [
    {
     "name": "stderr",
     "output_type": "stream",
     "text": [
      "/home/particle/anaconda3/lib/python3.6/site-packages/ipykernel/__main__.py:790: UserWarning: The CUDA compiler succeeded, but said the following:\n",
      "ptxas warning : Stack size for entry function 'gerrymander_kernel' cannot be statically determined\n",
      "\n"
     ]
    },
    {
     "name": "stdout",
     "output_type": "stream",
     "text": [
      "[[3 3 7 4 6 0 2 7 6 0 2 0 5 1 5 2 3 4 1 4 7 0 6 4 0 3 0 4 6 1 0 2 2 1 3 6 7\n",
      "  5 2 3 6 5 1 4 1 0 3 5 6 7]\n",
      " [3 6 1 0 2 6 1 7 7 4 7 6 6 7 0 2 3 4 3 5 5 3 5 0 5 0 4 3 6 7 6 1 0 1 7 2 5\n",
      "  0 4 1 7 7 5 3 4 6 0 2 5 2]\n",
      " [5 7 0 3 4 5 7 1 0 6 4 7 4 3 5 0 6 2 6 5 1 3 2 2 7 4 2 5 6 3 5 4 0 5 7 2 1\n",
      "  1 0 1 0 7 4 6 3 7 7 6 5 4]\n",
      " [7 3 0 1 1 7 7 2 5 1 2 6 6 4 5 1 0 6 5 6 4 0 4 7 6 4 6 0 4 4 3 4 0 0 3 5 2\n",
      "  2 3 1 1 2 2 7 7 0 7 1 4 2]\n",
      " [2 0 2 2 3 6 3 1 0 5 3 6 4 5 0 1 4 7 3 6 4 5 4 2 4 1 5 0 3 6 6 5 7 0 0 2 1\n",
      "  1 7 3 7 6 4 0 1 5 3 7 6 4]\n",
      " [7 5 0 7 3 6 6 2 2 6 3 6 2 7 5 7 0 5 7 4 1 6 4 7 0 5 3 1 6 2 6 0 4 5 3 1 4\n",
      "  4 1 4 7 3 3 6 3 7 0 0 2 4]\n",
      " [6 4 5 7 4 2 2 6 7 3 1 2 0 2 7 6 0 0 2 4 3 7 3 6 2 1 4 7 6 3 2 0 3 2 3 5 1\n",
      "  1 5 0 4 4 2 0 5 2 3 1 7 2]\n",
      " [5 4 0 6 6 2 2 7 0 4 7 2 3 6 7 2 1 5 1 0 6 2 7 0 6 1 7 6 1 5 3 0 2 1 5 1 3\n",
      "  1 4 1 4 2 6 5 2 3 3 4 7 3]\n",
      " [4 5 0 0 3 6 2 4 2 7 1 7 6 4 6 3 2 1 3 2 7 6 4 0 7 4 4 0 3 4 7 2 0 1 5 0 1\n",
      "  1 5 1 7 7 7 0 5 6 7 3 4 6]\n",
      " [5 6 5 7 3 4 1 3 7 0 4 0 0 1 7 3 6 7 4 2 2 1 4 5 1 6 4 2 4 2 0 4 7 4 6 0 4\n",
      "  7 1 6 6 4 7 6 3 5 2 5 3 0]\n",
      " [6 2 4 0 5 3 3 2 1 0 0 3 6 7 7 5 1 7 3 4 6 1 6 4 7 7 2 0 6 0 3 5 7 3 2 1 6\n",
      "  3 2 7 5 0 0 0 1 4 3 5 4 6]\n",
      " [7 7 0 1 0 6 4 6 4 1 1 3 2 4 2 4 1 6 6 5 7 1 4 4 1 5 4 0 3 5 2 3 3 0 1 1 7\n",
      "  2 6 3 2 2 7 5 0 0 3 5 0 3]\n",
      " [3 4 7 7 0 1 7 5 7 3 2 1 1 3 7 4 6 4 6 6 5 1 3 4 3 2 6 7 7 2 1 0 1 6 3 6 5\n",
      "  5 3 2 0 2 4 3 2 0 2 0 7 2]\n",
      " [6 3 2 3 4 5 0 5 1 5 2 3 6 4 1 2 5 7 5 6 4 1 3 7 0 2 3 6 6 6 5 2 0 3 7 0 2\n",
      "  7 0 7 4 1 4 5 0 7 6 3 4 1]\n",
      " [1 5 0 0 1 7 0 6 4 3 0 2 7 2 4 6 3 6 7 3 0 2 0 0 5 3 2 1 5 7 7 3 4 4 5 4 6\n",
      "  2 5 3 6 1 0 1 5 4 7 1 2 7]]\n",
      "[8 8 8 9 8 8 8 8 8 8 8 8 8 8 8]\n",
      "[ 0.04571539  0.07938027  0.05068859  0.04973223  0.0910482   0.06407804\n",
      "  0.12777352  0.1013772   0.05030604  0.10233358  0.07938027  0.15684773\n",
      "  0.08186686  0.12777352  0.09927315]\n",
      "[ 0.99216306  0.98639196  0.99131054  0.91369671  0.98439175  0.98901522\n",
      "  0.97809601  0.98262107  0.9913761   0.9824571   0.98639196  0.97311181\n",
      "  0.98596567  0.97809601  0.98298174]\n",
      "CPU times: user 788 ms, sys: 252 ms, total: 1.04 s\n",
      "Wall time: 38.5 s\n"
     ]
    }
   ],
   "source": [
    "%%time\n",
    "\n",
    "#Restart the kernel frequently, especially after you change\n",
    "#gridDims or blockDims.  PyCuda tends to \"get stuck\" and throw memory\n",
    "#errors.  Restarting kernel often clears the problem.\n",
    "\n",
    "from helper.setup import *\n",
    "from helper.pycuda_setup import *\n",
    "\n",
    "gridDims = (1,1,1)\n",
    "blockDims = (15,1,1)\n",
    "max_steps = 100\n",
    "num_sims = np.product([gridDims,blockDims])\n",
    "anneal_rate = 2\n",
    "\n",
    "\n",
    "num_clrs = 8\n",
    "num_vtds = 50\n",
    "vtd_pop = np.random.randint(50,size=num_vtds).astype('uint16')\n",
    "num_vtds = len(vtd_pop)\n",
    "\n",
    "#If given neighbors list\n",
    "#edges = [(v,w) for (v,N) in enumerate nbrs for w in N if v<w]\n",
    "\n",
    "num_edges = int((num_vtds*(num_vtds-1)/2)*.50)\n",
    "edges = np.random.choice(num_vtds, size=[num_edges,2]).tolist()\n",
    "#edges = [(0,1), (1,2), (2,3), (3,4), (4,0), (0,5), (0,6)]\n",
    "\n",
    "exec(open(\"prep_data.py\").read())\n",
    "\n",
    "vtd_clr_arr = num_clrs * np.ones([num_sims,num_vtds]).astype('uint16')\n",
    "num_cmps = np.zeros(num_sims).astype('uint16')\n",
    "TV = np.zeros(num_sims).astype('float32')\n",
    "good = np.zeros(num_sims).astype('float32')\n",
    "\n",
    "\n",
    "exec(open(\"MH_parallel.py\").read())\n"
   ]
  }
 ],
 "metadata": {
  "kernelspec": {
   "display_name": "Python 3",
   "language": "python",
   "name": "python3"
  },
  "language_info": {
   "codemirror_mode": {
    "name": "ipython",
    "version": 3
   },
   "file_extension": ".py",
   "mimetype": "text/x-python",
   "name": "python",
   "nbconvert_exporter": "python",
   "pygments_lexer": "ipython3",
   "version": "3.6.0"
  }
 },
 "nbformat": 4,
 "nbformat_minor": 2
}
