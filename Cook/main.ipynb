{
 "cells": [
  {
   "cell_type": "code",
   "execution_count": null,
   "metadata": {
    "collapsed": true
   },
   "outputs": [],
   "source": [
    "mod = SourceModule(\"\"\"\n",
    "    #include <stdio.h>\n",
    "    __global__ main_gpu(, ushort *component, ushort num_components, ushort *color, ushort num_vtds, ushort *nbrs, ushort *nbr_rng)\n",
    "    {\n",
    "        for(w = 0; w < num_vtds; w++)\n",
    "    }\n",
    "    \n",
    "    \n",
    "    __device__ void compute_components_local(ushort w, ushort *component, ushort num_components, ushort *color, ushort num_vtds, ushort *nbrs, ushort *nbr_rng)\n",
    "    {    \n",
    "        const uint blockId = blockIdx.z*(gridDim.y*gridDim.x) + blockIdx.y*(gridDim.x) + blockIdx.x;\n",
    "        const uint threadIdLoc = threadIdx.z*(blockDim.y*blockDim.x) + threadIdx.y*(blockDim.x) + threadIdx.x;\n",
    "        const uint threadIdGlob = blockId*(blockDim.z*blockDim.y*blockDim.x) + threadIdLoc;\n",
    "\n",
    "        const char *div1 = \"***********************************************************************************************\\\\n\";\n",
    "        const char *div2 = \"###############################################################################################\\\\n\";\n",
    "\n",
    "        /*\n",
    "        printf(\"%sHello from block (%d,%d,%d) and thread (%d,%d,%d)\\\\n%s\",\n",
    "                div1, blockIdx.x, blockIdx.y, blockIdx.x, threadIdx.x, threadIdx.y, threadIdx.x, div2);\n",
    "        */\n",
    "\n",
    "        \n",
    "        int u, v, w;\n",
    "        num_components = 0;\n",
    "        //printf(\"%d\\\\n\",num_vtds);\n",
    "        //printf(\"%d\\\\n\",num_components);\n",
    "        for(w = 0; w < num_vtds; w++)\n",
    "        {\n",
    "            printf(\"\\\\n\\\\nLooking at vtd %d\\\\n\\\\n\",w);\n",
    "            component[w] = num_components;\n",
    "            //printf(\"vtd w=%d is in component %d\\\\n\", w,component[w]);\n",
    "            for(i = nbr_rng[w]; i = nbr_rng[w+1]; i++)\n",
    "            {\n",
    "                v = nbrs[i];\n",
    "                if(color[v] == color[w])\n",
    "                {\n",
    "                    printf(\"Matched color on %d and %d.\\\\n\", v, w);\n",
    "                    printf(\"vtd v=%d is in component %d\\\\n\", v,component[v]);\n",
    "                    if(component[v] < component[w])\n",
    "                    {\n",
    "                        printf(\"%d and %d were adjacent, with comp[%d] < comp[%d].\\\\n\", v, w, v, w);\n",
    "                        component[w] = component[v];\n",
    "                    }\n",
    "                }\n",
    "            }\n",
    "            \n",
    "            if(component[w] == num_components)\n",
    "            {\n",
    "                //printf(\"Incrementing num_components to %d\",num_components);\n",
    "                num_components++;\n",
    "            }\n",
    "                        \n",
    "            for(i = nbr_rng[w]; i = nbr_rng[w+1]; i++)\n",
    "            {\n",
    "                v = nbrs[i]\n",
    "                if(color[v] == color[w])\n",
    "                {\n",
    "                    if(component[v] > component[w])\n",
    "                    {\n",
    "                        old_comp = component[v];\n",
    "                        new_comp = component[w];\n",
    "                        for(u = 0; u < w; u++)\n",
    "                        {\n",
    "                            if(component[u] == old_component)\n",
    "                            {\n",
    "                                printf(\"Updating component of %d from %d to %d\\\\n\", u, component[u], new_comp);\n",
    "                                component[u] = new_comp;\n",
    "                            }\n",
    "                        }\n",
    "                    }\n",
    "                }\n",
    "            }\n",
    "        }\n",
    "        printf(\"MADE IT\\\\n\");\n",
    "    }\n",
    "    \n",
    "    __global__ void compute_components_global(ushort *component, ushort num_components, ushort *color, ushort num_vtds, ushort *nbrs, ushort *nbr_rng)\n",
    "    {\n",
    "\n",
    "\"\"\")\n"
   ]
  },
  {
   "cell_type": "code",
   "execution_count": 1,
   "metadata": {
    "collapsed": false
   },
   "outputs": [
    {
     "data": {
      "text/html": [
       "<div>\n",
       "<table border=\"1\" class=\"dataframe\">\n",
       "  <thead>\n",
       "    <tr style=\"text-align: right;\">\n",
       "      <th></th>\n",
       "      <th>A</th>\n",
       "      <th>B</th>\n",
       "    </tr>\n",
       "  </thead>\n",
       "  <tbody>\n",
       "    <tr>\n",
       "      <th>0</th>\n",
       "      <td>1</td>\n",
       "      <td>7</td>\n",
       "    </tr>\n",
       "    <tr>\n",
       "      <th>1</th>\n",
       "      <td>2</td>\n",
       "      <td>2</td>\n",
       "    </tr>\n",
       "    <tr>\n",
       "      <th>2</th>\n",
       "      <td>3</td>\n",
       "      <td>3</td>\n",
       "    </tr>\n",
       "  </tbody>\n",
       "</table>\n",
       "<p>3 rows × 2 columns</p>\n",
       "</div>"
      ],
      "text/plain": [
       "   A  B\n",
       "0  1  7\n",
       "1  2  2\n",
       "2  3  3\n",
       "\n",
       "[3 rows x 2 columns]"
      ]
     },
     "metadata": {},
     "output_type": "display_data"
    },
    {
     "name": "stdout",
     "output_type": "stream",
     "text": [
      "[1 7 2 2 3 3]\n"
     ]
    }
   ],
   "source": [
    "from helper.setup import *\n",
    "from helper.pycuda_setup import *\n",
    "df = pd.DataFrame()\n",
    "df['A'] = [1,2,3]\n",
    "df['B'] = [7,2,3]\n",
    "display(df)\n",
    "df_gpu = togpu(df,'uint16')\n",
    "print(df_gpu)"
   ]
  },
  {
   "cell_type": "code",
   "execution_count": 14,
   "metadata": {
    "collapsed": false,
    "scrolled": false
   },
   "outputs": [
    {
     "name": "stdout",
     "output_type": "stream",
     "text": [
      "[[1] [0, 2] [1]]\n",
      "[1 0 2 1]\n"
     ]
    },
    {
     "data": {
      "text/plain": [
       "array([1, 0, 2, 1])"
      ]
     },
     "execution_count": 14,
     "metadata": {},
     "output_type": "execute_result"
    }
   ],
   "source": [
    "from helper.setup import *\n",
    "nbrs = [[1],[0,2],[1]]\n",
    "deg = np.array([len(n) for n in nbrs]).astype('uint8')\n",
    "nbr_nrg = np.insert(deg.cumsum(),0,0).astype('uint16')\n",
    "print(np.asarray(nbrs))\n",
    "print(np.concatenate(nbrs))\n",
    "N\n",
    "#display(nbr_nrg)\n",
    "#help(np.insert)\n",
    "#N = np.asarray(nbrs)\n",
    "#print(N.flatten())\n",
    "# idx = 0\n",
    "# idx_ = \n",
    "# display(neighbors)\n",
    "# display(ind_end)"
   ]
  },
  {
   "cell_type": "code",
   "execution_count": 34,
   "metadata": {
    "collapsed": false
   },
   "outputs": [
    {
     "name": "stdout",
     "output_type": "stream",
     "text": [
      "uint8\n"
     ]
    }
   ],
   "source": [
    "num_vtd = 10\n",
    "num_color = 3\n",
    "num_edges = 20\n",
    "adj = np.random.randint(2,size=[num_vtd,num_vtd]).astype('uint8')\n",
    "adj = np.tril(adj,k=-1)\n",
    "adj = adj + adj.T\n",
    "np.alltrue(A==A.T)\n",
    "print(adj.dtype)\n",
    "color = np.random.randint(num_color, size = num_vtd).astype('uint16')\n",
    "component = np.arange(num_vtd).astype('uint16')\n",
    "vtd0 = np.zeros(num_edges).astype('uint32')\n",
    "vtd1 = np.zeros(num_edges).astype('uint32')\n",
    "\n"
   ]
  },
  {
   "cell_type": "code",
   "execution_count": 2,
   "metadata": {
    "collapsed": false
   },
   "outputs": [
    {
     "name": "stderr",
     "output_type": "stream",
     "text": [
      "/home/particle/anaconda3/lib/python3.6/site-packages/ipykernel/__main__.py:17: UserWarning: The CUDA compiler succeeded, but said the following:\n",
      "kernel.cu(8): warning: variable \"threadIdGlob\" was declared but never referenced\n",
      "\n",
      "kernel.cu(8): warning: variable \"threadIdGlob\" was declared but never referenced\n",
      "\n",
      "\n"
     ]
    }
   ],
   "source": [
    "from helper.setup import *\n",
    "from helper.pycuda_setup import *\n",
    "\n",
    "mod = SourceModule(\"\"\"\n",
    "    #include <stdio.h>\n",
    "    __global__ void compute_components_gpu(char *adjacent, char *color)\n",
    "    {\n",
    "        const uint blockId = blockIdx.z*(gridDim.y*gridDim.x) + blockIdx.y*(gridDim.x) + blockIdx.x;\n",
    "        const uint threadIdLoc = threadIdx.z*(blockDim.y*blockDim.x) + threadIdx.y*(blockDim.x) + threadIdx.x;\n",
    "        const uint threadIdGlob = blockId*(blockDim.z*blockDim.y*blockDim.x) + threadIdLoc;\n",
    "\n",
    "        const char *div1 = \"***********************************************************************************************\\\\n\";\n",
    "        const char *div2 = \"###############################################################################################\\\\n\";\n",
    "    \n",
    "        printf(\"%s hello %s\",div1, div2);\n",
    "    }    \n",
    "\"\"\")\n",
    "compute_components = mod.get_function(\"compute_components_gpu\")"
   ]
  }
 ],
 "metadata": {
  "kernelspec": {
   "display_name": "Python 3",
   "language": "python",
   "name": "python3"
  },
  "language_info": {
   "codemirror_mode": {
    "name": "ipython",
    "version": 3
   },
   "file_extension": ".py",
   "mimetype": "text/x-python",
   "name": "python",
   "nbconvert_exporter": "python",
   "pygments_lexer": "ipython3",
   "version": "3.6.0"
  }
 },
 "nbformat": 4,
 "nbformat_minor": 2
}
